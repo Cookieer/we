{
 "cells": [
  {
   "cell_type": "markdown",
   "metadata": {},
   "source": [
    "\n",
    "## 条件随机场\n",
    "\n",
    "### HMM\n",
    "\n",
    "在上一章提到的HMM，有两条经典的假设：观测独立性假设，齐次马尔科夫链假设。这两条假设不仅简化了模型，也使得HMM的计算成为可能。但在很多情况下，尤其是大量真实语料中，观察值间存在相关性，这样，HMM就会受到制约。\n",
    "\n",
    "![Markdown](http://i1.fuimg.com/611786/89ae34a8ef83b597.png)\n",
    "\n",
    "### 线性链CRF\n",
    "\n",
    "HMM是一个有向图，而线性链CRF是一个无向图，观测序列X作为一个整体，去影响状态序列Y的值，而不是只影响相同或邻近位置（时刻）的Y。\n",
    "\n",
    "![Markdown](http://i1.fuimg.com/611786/499da4b2afe8248a.png)\n",
    "\n",
    "**x为观测序列，y为标注序列**\n",
    "\n",
    "线性链CRF的参数化形式为：\n",
    "\n",
    "$P(y|x) = \\frac{1}{Z(x)} exp(\\sum_{i,k}\\lambda_kt_k(y_{i-1},y_i,i)+\\sum_{i,j}\\mu_ls_l(y_i,X,i))$       \n",
    "\n",
    "其中\n",
    "\n",
    "$Z(x) = \\sum_y exp(\\sum_{i,k}\\lambda_kt_k(y_{i-1},y_i,i)+\\sum_{i,j}\\mu_ls_l(y_i,X,i))$\n",
    "\n",
    "$Z(x)$是规范化因子，$t_k(y_{i-1},y_i,i)$为转移函数——表示从标注序列中位置$i-1$的标记$y_{i-1}$转移到位置$i$的标记$y_i$的概率，$s_l(y_i,X,i)$为状态函数——表示标记序列在位置$i$上标记为$y_i$的概率，$t_k(y_{i-1},y_i,i)$、$s_l(y_i,X,i)$都是特征函数，取值通常为0或1；$\\lambda_k$和$\\mu_l$为转移函数和状态函数对应的权数\n",
    "\n",
    "**权数的引入是为了减少无效特征，如上面举例的“我来到牛家村”，它其中一个标注序列（O,O,O,B,B,E）明显是错误的，因为B后面不会再接B，对于这种错误，可以将其对应的特征函数的权数设置为0**\n",
    "\n",
    "通常为了方便计算，将上式简化为：\n",
    "\n",
    "$P(y|x) = \\frac{1}{Z(x)} exp(\\sum_j\\sum_i\\omega_jf_j(y_{i-1},y_i,x,i))$\n",
    "\n",
    "对应的\n",
    "\n",
    "$Z(x) = \\sum_yexp(\\sum_j\\sum_i\\omega_jf_j(y_{i-1},y_i,x,i))$\n",
    "\n",
    "其中，$f_j(y_{i-1},y_i,x,i)$是$t_k(y_{i-1},y_i,i)$和$s_l(y_i,X,i)$的统一符号表示\n",
    "\n",
    "**求解最大可能的序列路径，与HMM一样，采用了Veterbi算法**"
   ]
  }
 ],
 "metadata": {
  "kernelspec": {
   "display_name": "Python 3",
   "language": "python",
   "name": "python3"
  },
  "language_info": {
   "codemirror_mode": {
    "name": "ipython",
    "version": 3
   },
   "file_extension": ".py",
   "mimetype": "text/x-python",
   "name": "python",
   "nbconvert_exporter": "python",
   "pygments_lexer": "ipython3",
   "version": "3.7.3"
  }
 },
 "nbformat": 4,
 "nbformat_minor": 2
}
